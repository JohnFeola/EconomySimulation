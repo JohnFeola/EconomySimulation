{
 "cells": [
  {
   "cell_type": "code",
   "execution_count": 1,
   "id": "a2fe1a54-ae82-47b6-a94f-10089c322ac1",
   "metadata": {},
   "outputs": [],
   "source": [
    "%matplotlib inline\n",
    "\n",
    "\n",
    "import numpy as np\n",
    "from mesa import Agent, Model\n",
    "from mesa.time import RandomActivation"
   ]
  },
  {
   "cell_type": "code",
   "execution_count": 2,
   "id": "8b401bc2-ccba-4aaa-a7d9-edde6248593e",
   "metadata": {},
   "outputs": [],
   "source": [
    "class MktParticipant(Agent):\n",
    "    def __init__(self, key, model):\n",
    "        super().__init__(key, model)\n",
    "        # agent start with a random amt of $, and a random level of 'business savvy'\n",
    "        self.id = key\n",
    "        self.usd = np.random.randint(1,50)\n",
    "        self.savvy = np.random.randint(1, 10)\n",
    "        self.intelligence = np.random.randint(0,5)\n",
    "        self.workEthic = np.random.randint(0,5)\n",
    "    def step(self):\n",
    "        \"\"\" Defines what each agent executes per unit of time; inherited\"\"\"        \n",
    "        # if agent had successful business venture (randomly occurs), gain some usd  and business savvy\n",
    "        if self.usd > 0:\n",
    "            #10% of the time, agent has a business success ...savvy ++ and usd++\n",
    "            is_business_success = np.random.uniform(0, 1) >= .9\n",
    "            if is_business_success:\n",
    "                self.usd += 1.\n",
    "                self.savvy += 1.5\n",
    "            #70% of the time, agent decides to transact with another person \n",
    "            do_transact = np.random.uniform(0, 1) > .3\n",
    "            if do_transact:\n",
    "                other = np.random.choice(self.model.schedule.agents)\n",
    "                #below while-statemtn ensures that once an agent reaches $0, they can no longer \n",
    "                #participate in the economy\n",
    "                #inneficcient, but functional\n",
    "                while other.usd < 1:\n",
    "                    other = np.random.choice(self.model.schedule.agents)\n",
    "                selfCompetence = self.savvy + self.intelligence + self.workEthic\n",
    "                otherCompetence = other.savvy + other.intelligence + other.workEthic\n",
    "                if selfCompetence < otherCompetence:\n",
    "                    self.usd -= 2.\n",
    "                    other.usd += 2.\n",
    "                else:\n",
    "                    other.usd -= 2.\n",
    "                    self.usd += 2.\n",
    "            # lottery function: agents hae 10% chance of deciding to play the lottery, and 1/10,000 chance of winning a million dollars if they play\n",
    "            decide_to_play_lottery = np.random.uniform(0,1)\n",
    "            if decide_to_play_lottery < .01:\n",
    "                lottery = np.random.randint(1, 10000)\n",
    "                if lottery == 6:\n",
    "                    self.usd+= 10000\n",
    "                else:\n",
    "                    self.usd-= 1\n",
    "                \n",
    "                \n",
    "            decide_to_rob_bank = np.random.randint(1,100000)\n",
    "            if decide_to_rob_bank == 11:\n",
    "                decide_success = np.random.uniform(0,1)\n",
    "                if decide_success < .1 :\n",
    "                    self.usd+=100\n",
    "                else:\n",
    "                    \n",
    "                    self.usd = 0 #go directly to jail"
   ]
  },
  {
   "cell_type": "code",
   "execution_count": 3,
   "id": "a911bb4c-d07a-4733-8cc2-132cb0601d99",
   "metadata": {},
   "outputs": [],
   "source": [
    "class Economy(Model):\n",
    "    def __init__(self, n):\n",
    "        self.num_agents = n\n",
    "        self.schedule = RandomActivation(self)\n",
    "        \n",
    "        # create our `n` agents and add to our model\n",
    "        for i in range(self.num_agents):\n",
    "            agent = MktParticipant(i, self)\n",
    "            self.schedule.add(agent)\n",
    "\n",
    "    def step(self):\n",
    "        \"\"\"Akin to one unit of time; inherited from super-class.\"\"\"\n",
    "        self.schedule.step()"
   ]
  },
  {
   "cell_type": "code",
   "execution_count": 4,
   "id": "f727f159-15d3-42e5-84bc-574e89269754",
   "metadata": {},
   "outputs": [
    {
     "data": {
      "image/png": "[encoded data removed]",
      "text/plain": [
       "<Figure size 640x480 with 1 Axes>"
      ]
     },
     "metadata": {},
     "output_type": "display_data"
    }
   ],
   "source": [
    "import matplotlib.pyplot as plt\n",
    "\n",
    "\n",
    "# run the model with many agents\n",
    "model = Economy(n=50)\n",
    "for i in range(1000):\n",
    "    model.step()\n",
    "\n",
    "# read-out agent data from the model\n",
    "data = np.asarray(list(map(lambda x: (x.usd, x.savvy), model.schedule.agents)))\n",
    "\n",
    "# plot the XP (x axis) and strength (y axis)\n",
    "plt.scatter(data[:, 0], data[:, 1])\n",
    "plt.xlabel(\"usd\")\n",
    "plt.ylabel(\"business savvy\")\n",
    "plt.show()"
   ]
  }
 ],
 "metadata": {
  "kernelspec": {
   "display_name": "Python 3 (ipykernel)",
   "language": "python",
   "name": "python3"
  },
  "language_info": {
   "codemirror_mode": {
    "name": "ipython",
    "version": 3
   },
   "file_extension": ".py",
   "mimetype": "text/x-python",
   "name": "python",
   "nbconvert_exporter": "python",
   "pygments_lexer": "ipython3",
   "version": "3.10.7"
  }
 },
 "nbformat": 4,
 "nbformat_minor": 5
}
